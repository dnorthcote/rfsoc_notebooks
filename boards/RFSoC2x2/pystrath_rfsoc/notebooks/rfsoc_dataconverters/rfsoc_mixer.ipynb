{
 "cells": [
  {
   "cell_type": "markdown",
   "metadata": {},
   "source": [
    "<img src=\"images/strathclyde_banner.png\" width=\"50%\" align=\"left\" style=\"left\">"
   ]
  },
  {
   "cell_type": "markdown",
   "metadata": {},
   "source": [
    "# RFSoC Mixer Mode Introduction\n",
    "\n",
    "----\n",
    "\n",
    "<div class=\"alert alert-box alert-info\">\n",
    "Please use Jupyter labs http://board_ip_address/lab for this notebook.\n",
    "</div>\n",
    "\n",
    "This notebook presents an introduction to the different mixer modes available through the RF Data Converters (RF DCs) on the RFSoC2x2 board.\n",
    "\n",
    "## Aims\n",
    "  \n",
    "* Gain a deeper understanding of the RFSoC Mixer Modes, including Coarse, Fine and Bypass modes\n",
    "* Utalise the `xrfdc` Python package to investigate the mixer settings available in the base overlay\n",
    "* Present the data inspection and visualisation of the RF DCs using Plotly, including an exploration of interactive plots.\n",
    "\n",
    "## Table of Contents\n",
    "* [Introduction](#introduction)\n",
    "* [Hardware Setup](#hardware_setup)\n",
    "* [Software Setup](#software_setup)\n",
    "* [Introducing the Coarse Mixer](#introducing_coarse_mixer)\n",
    "    * [Coarse Mixer: fs/4](#coarse_fs_4)\n",
    "    * [Coarse Mixer: -fs/4](#course_min_fs_4)\n",
    "    * [Coarse Mixer: fs/2](#coarse_fs_2)\n",
    "* [Introducing the Fine Mixer](#introducing_fine_mixer)\n",
    "* [Mixer Bypass](#mixer_bypass)\n",
    "* [Conclusion](#conclusion)\n",
    "\n",
    "## References\n",
    "* [Xilinx, Inc, \"USP RF Data Converter: LogiCORE IP Product Guide\", PG269, v2.3, June 2020](https://www.xilinx.com/support/documentation/ip_documentation/usp_rf_data_converter/v2_3/pg269-rf-data-converter.pdf)\n",
    "\n",
    "## Revision History\n",
    "\n",
    "* v1.0 | 26/02/2021 | First notebook revision."
   ]
  },
  {
   "cell_type": "markdown",
   "metadata": {},
   "source": [
    "## Introduction <a class=\"anchor\" id=\"introduction\"></a>\n",
    "\n",
    "The RF-DAC tiles available on the RFSoC each contain two RF-DAC blocks which can be used to transmit, or Digital Up Convert (DUC) an information signal. This is the process of modulating a low frequency baseband information signal with a high frequency carrier signal. This is performed using Quadrature Amplitude Modulation (QAM) and a mixer is utalised to modulate the baseband information signal. Similarly, the RF-ADCs act as a receiver, performing Digital Down Conversion (DDC) on the received high frequency signal. Once more mixers are used to demodulate the signal to reconstruct the original baseband information signal."
   ]
  },
  {
   "cell_type": "markdown",
   "metadata": {},
   "source": [
    "An overview of the mixers available for both the RF-ADC and RF-DAC is shown in [Figure 1](#fig-1). The complex mixer is able to operate in three modes:\n",
    "\n",
    "* Fine Mixer Mode\n",
    "* Coarse Mixer Mode\n",
    "* Bypass Mode\n",
    "\n",
    "The user is able to select the desired oeprating mode of these mixers. "
   ]
  },
  {
   "cell_type": "markdown",
   "metadata": {},
   "source": [
    "<a class=\"anchor\" id=\"fig-1\"></a>\n",
    "<figure>\n",
    "<img src='./images/IQ_mixer.png' height='40%' width='40%'/>\n",
    "    <figcaption><b>Figure 1: I/Q Mixer circuitry within RF Data Converters </b></figcaption>\n",
    "</figure>"
   ]
  },
  {
   "cell_type": "markdown",
   "metadata": {},
   "source": [
    "The **Coarse Mixer** component implements both the **Coarse** mode and the **Bypass** mode.\n",
    "\n",
    "* In **Coarse** mode, the mixer is able to demodulate using only a very restricted set of frequencies, however it is able to operate in this mode with lower power than in Fine mode. This is because sine and cosine waves at these frequencies comprise a very limited set of samples. Three options are available in this mode: $\\frac{f_{s}}{4}$, $-\\frac{f_{s}}{4}$ and $\\frac{f_{s}}{2}$.\n",
    "\n",
    "\n",
    "* In **Bypass** mode, the signal path simply bypasses the I/Q mixing stage, via the coarse stage, and does not undergo any modulation/demodulation.\n",
    "\n",
    "Frequencies of $\\frac{f_{s}}{4}$ and $-\\frac{f_{s}}{4}$ are useful for modulating/demodulating to a quarter of the sampling frequency with absolutely minimal cost. The NCO must generate only four samples per sine wave cycle: 0, +1, 0, -1. It is trivial to store these values and to multiply another signal by them for modulation/demodulating. Multiplying by 0, +1 and -1 is trivial, and therefore the modulator or demodulator architecture can be simplified to a counter and some simple combinatorial logic.\n",
    "\n",
    "The **Fine Mixer** component implements **Fine** mode.\n",
    "\n",
    "* In **Fine** mode, the mixer uses an NCO, which can generate any arbitrary frequency between $-\\frac{f_{s}}{2}$ and $\\frac{f_{s}}{2}$. This is done by setting a step size input to the phase accumulator (automatically calculated in the design tools), the lookup table size and the desired frequency. Optional additional parameters can be set, including a phase adjustment and added dithering.\n",
    "\n",
    "The mixer operates on the concept of heterodyning. When we mix two signals, we obtain two signals; one at $f_{1} + f_{2}$ and another at $f_{1} - f_{2}$. Generally one of these signals is useful, and the other is filtered out by a lowpass filter."
   ]
  },
  {
   "cell_type": "markdown",
   "metadata": {},
   "source": [
    "In this notebook, we will be demonstrating many of the features\n",
    "mentioned above via a simple loopback example.\n",
    "\n",
    "## Hardware Setup <a class=\"anchor\" id=\"hardware_setup\"></a>\n",
    "\n",
    "Your RFSoC2x2 board is dual-channel. Notice that there are only\n",
    "4 SMAs on your board, labeled DAC1, DAC2, ADC1, and ADC2.\n",
    "Only two sets of RF ADC and RF DAC channels are accessible on\n",
    "the RFSoC2x2 board.\n",
    "\n",
    "You should create the loopback connection using SMA cables\n",
    "as shown below:\n",
    "\n",
    "* Channel 0: DAC2 to ADC2\n",
    "* Channel 1: DAC1 to ADC1\n",
    "\n",
    "See [Figure 2](#fig-2) below for a demonstration."
   ]
  },
  {
   "cell_type": "markdown",
   "metadata": {},
   "source": [
    "<a class=\"anchor\" id=\"fig-2\"></a>\n",
    "<figure>\n",
    "<img src='./images/rfsoc2x2_connections.jpg' height='40%' width='40%'/>\n",
    "    <figcaption><b>Figure 2: RFSoC2x2 in loopback operation </b></figcaption>\n",
    "</figure>"
   ]
  },
  {
   "cell_type": "markdown",
   "metadata": {},
   "source": [
    "<div class=\"alert alert-heading alert-danger\">\n",
    "    <h4 class=\"alert-heading\">Warning:</h4>\n",
    "\n",
    "In this demo we are transmitting signals via cables.\n",
    "This device can also transmit wireless signals. \n",
    "Keep in mind that unlicensed transmission of wireless signals\n",
    "may be illegal in your location. \n",
    "Radio signals may also interfere with nearby devices,\n",
    "such as pacemakers and emergency radio equipment. \n",
    "If you are unsure, please seek professional support.\n",
    "</div>\n",
    "\n",
    "----"
   ]
  },
  {
   "cell_type": "markdown",
   "metadata": {},
   "source": [
    "## Software Setup <a class=\"anchor\" id=\"software_setup\"></a>\n",
    "\n",
    "**Initialise the Board**\n",
    "\n",
    "As before, we will be using the RFSoC2x2 base overlay to add custom control logic in the Programmable Logic (PL) to communicate with the RF-ADC or RF-DAC. \n",
    "\n",
    "Let's now download the base overlay and initialise the drivers."
   ]
  },
  {
   "cell_type": "code",
   "execution_count": 1,
   "metadata": {},
   "outputs": [
    {
     "data": {
      "application/javascript": [
       "\n",
       "try {\n",
       "require(['notebook/js/codecell'], function(codecell) {\n",
       "  codecell.CodeCell.options_default.highlight_modes[\n",
       "      'magic_text/x-csrc'] = {'reg':[/^%%microblaze/]};\n",
       "  Jupyter.notebook.events.one('kernel_ready.Kernel', function(){\n",
       "      Jupyter.notebook.get_cells().map(function(cell){\n",
       "          if (cell.cell_type == 'code'){ cell.auto_highlight(); } }) ;\n",
       "  });\n",
       "});\n",
       "} catch (e) {};\n"
      ]
     },
     "metadata": {},
     "output_type": "display_data"
    },
    {
     "data": {
      "application/javascript": [
       "\n",
       "try {\n",
       "require(['notebook/js/codecell'], function(codecell) {\n",
       "  codecell.CodeCell.options_default.highlight_modes[\n",
       "      'magic_text/x-csrc'] = {'reg':[/^%%pybind11/]};\n",
       "  Jupyter.notebook.events.one('kernel_ready.Kernel', function(){\n",
       "      Jupyter.notebook.get_cells().map(function(cell){\n",
       "          if (cell.cell_type == 'code'){ cell.auto_highlight(); } }) ;\n",
       "  });\n",
       "});\n",
       "} catch (e) {};\n"
      ]
     },
     "metadata": {},
     "output_type": "display_data"
    }
   ],
   "source": [
    "from pynq.overlays.base import BaseOverlay\n",
    "\n",
    "base = BaseOverlay('base.bit')"
   ]
  },
  {
   "cell_type": "markdown",
   "metadata": {},
   "source": [
    "The RFSoC2x2 has a sophisticated clocking network, which can generate\n",
    "low-jitter clocks for the RF DC Phase-Locked Loops (PLLs). The base overlay\n",
    "has a simple method to initialize these clocks. Run the cell below to set\n",
    "the LMK and LMX clocks to 122.88MHz and 409.6MHz, respectively."
   ]
  },
  {
   "cell_type": "code",
   "execution_count": 2,
   "metadata": {},
   "outputs": [],
   "source": [
    "base.init_rf_clks()"
   ]
  },
  {
   "cell_type": "markdown",
   "metadata": {},
   "source": [
    "**Python Setup**\n",
    "\n",
    "For this design we will use [Numpy](https://numpy.org/) for calculations, and a helper file, plots.py for our time and frequency demain plots. "
   ]
  },
  {
   "cell_type": "code",
   "execution_count": 3,
   "metadata": {},
   "outputs": [],
   "source": [
    "import numpy as np\n",
    "import plots"
   ]
  },
  {
   "cell_type": "markdown",
   "metadata": {},
   "source": [
    "It is worthwhile highlighting the `xrfdc` Python package, which we will be utalising to change mixer settings for the RF-DACs and RF-ADCs."
   ]
  },
  {
   "cell_type": "code",
   "execution_count": 4,
   "metadata": {},
   "outputs": [],
   "source": [
    "import xrfdc"
   ]
  },
  {
   "cell_type": "markdown",
   "metadata": {},
   "source": [
    "We define a number of samples and a sampling frequency we will use throughout this example."
   ]
  },
  {
   "cell_type": "code",
   "execution_count": 5,
   "metadata": {},
   "outputs": [],
   "source": [
    "number_samples = 256\n",
    "sample_frequency = 4096e6"
   ]
  },
  {
   "cell_type": "markdown",
   "metadata": {},
   "source": [
    "The RFSoC2x2 has two channels available to us, however for simplicity this demonstartion will be focusing on channel 0 for the ADC and DAC. We assign these as *tx_channel* and *rx_channel* to shorten the code going forward."
   ]
  },
  {
   "cell_type": "code",
   "execution_count": 6,
   "metadata": {},
   "outputs": [],
   "source": [
    "tx_channel = base.radio.transmitter.channel[0]\n",
    "rx_channel = base.radio.receiver.channel[0]"
   ]
  },
  {
   "cell_type": "markdown",
   "metadata": {},
   "source": [
    "We can set the amplitude and enable transmission from the RF-DAC to the receiver in the RF-ADC."
   ]
  },
  {
   "cell_type": "code",
   "execution_count": 7,
   "metadata": {},
   "outputs": [],
   "source": [
    "tx_channel.control.gain = 0.5\n",
    "tx_channel.control.enable = True"
   ]
  },
  {
   "cell_type": "markdown",
   "metadata": {},
   "source": [
    "**Mixer Setting Defaults**\n",
    "\n",
    "We can now examine the available Mixer Settings for the RF-DAC and RF-ADC, and view the default settings. The same Mixer options are available for both Data Converters:\n",
    "\n",
    "* **CoarseMixFreq** - This option is enabled when the mixer is set to Coarse Mode. A user can choose between OFF (0x0), $\\frac{f_{s}}{2}$ (0x2), $\\frac{f_{s}}{4}$ (0x4), $-\\frac{f_{s}}{4}$ (0x8) or BYPASS (0x10).\n",
    "\n",
    "* **EventSource** - Event source for mixer settings. A user can choose: update after register write (0x0), update using SLICE event source (0x1), update using TILE event source (0x2), update using SYSREF event source (0x3), update using MARKER event source (0x4) or update using PL event source (0x5).\n",
    "\n",
    "* **FineMixerScale** - NCO output scale for fine mixer mode. A user can choose between: auto update (0x0), set to 1.0 (0x1) or set to 0.7 (0x2). General default is 1.0 for RF-ADC and 0.7 for RF-DAC.\n",
    "\n",
    "* **Freq** - NCO frequency range for fine mixer mode. Range: -Fs to Fs (MHz).\n",
    "\n",
    "* **MixerMode** - Mixer mode for fine or coarse mixer. Options are: Mixer Mode OFF (only for fine mixer) (0x0), Complex to Complex (0x1), Complex to Real (0x2) or Real to Complex (0x3). \n",
    "\n",
    "* **MixerType** - Indicates coarse or fine mixer. Options are: Coarse mixer (0x1), Fine mixer (0x2), OFF (0x3) or DISABLED (has to be set in hardware design).\n",
    "\n",
    "* **PhaseOffset** - NCO phase offset. Range: -180 to 180 (Exclusive).\n",
    "\n",
    "For more detail please see pages 180-182 of the [RF Data Converter Product Guide](https://www.xilinx.com/support/documentation/ip_documentation/usp_rf_data_converter/v2_3/pg269-rf-data-converter.pdf)."
   ]
  },
  {
   "cell_type": "markdown",
   "metadata": {},
   "source": [
    "From this we can examine the RF-DAC default settings. We can see that CoarseMixFreq is OFF, EventSource is immediate after register write, FineMixerScale is 1.0, Freq is 1024, MixerMode is Complex to Real, MixerType is Fine Mixer and PhaseOffset is 0!"
   ]
  },
  {
   "cell_type": "code",
   "execution_count": 8,
   "metadata": {},
   "outputs": [
    {
     "data": {
      "text/plain": [
       "{'CoarseMixFreq': 0,\n",
       " 'EventSource': 0,\n",
       " 'FineMixerScale': 1,\n",
       " 'Freq': 1023.9999999999927,\n",
       " 'MixerMode': 2,\n",
       " 'MixerType': 2,\n",
       " 'PhaseOffset': 0.0}"
      ]
     },
     "execution_count": 8,
     "metadata": {},
     "output_type": "execute_result"
    }
   ],
   "source": [
    "# RF-DAC mixer settings\n",
    "tx_channel.dac_block.MixerSettings"
   ]
  },
  {
   "cell_type": "markdown",
   "metadata": {},
   "source": [
    "We can also examine the RF-ADC defaults. We see that CoarseMixFreq is OFF, EventSource is update using TILE event source, FineMixerScale is 1.0, Freq is -1024, MixerMode is Real to Complex, MixerType is Fine Mixer and PhaseOffset is 0!"
   ]
  },
  {
   "cell_type": "code",
   "execution_count": 9,
   "metadata": {},
   "outputs": [
    {
     "data": {
      "text/plain": [
       "{'CoarseMixFreq': 0,\n",
       " 'EventSource': 2,\n",
       " 'FineMixerScale': 1,\n",
       " 'Freq': -1024.0,\n",
       " 'MixerMode': 3,\n",
       " 'MixerType': 2,\n",
       " 'PhaseOffset': 0.0}"
      ]
     },
     "execution_count": 9,
     "metadata": {},
     "output_type": "execute_result"
    }
   ],
   "source": [
    "# RF-ADC channel 0 mixer settings\n",
    "rx_channel.adc_block.MixerSettings"
   ]
  },
  {
   "cell_type": "markdown",
   "metadata": {},
   "source": [
    "**Configure NCO Frequency**\n",
    "\n",
    "The below function is of key importance in highlighting the operation of the mixer settings and will be used throughout the notebook to update the centre frequency ($f_{c}$) of the RF-ADC and RF-DAC. The NCO can be configured differently depending on the required modulation or demodulation. We wish to avoid the inversion of the original spectrum, and so we set positive NCO frequencies in down conversion when the desired signal is located at an even Nyquist band, or negative NCO frequencies when the desired signal is located at odd Nyquist bands. For up conversion, we set negative NCO frequencies when shifting a signal to even Nyquist bands and positive frequencies when shifting a signal to odd Nyquist bands."
   ]
  },
  {
   "cell_type": "markdown",
   "metadata": {},
   "source": [
    "<a class=\"anchor\" id=\"fig-3\"></a>\n",
    "<figure>\n",
    "<img src='./images/NyquistZones.png' height='50%' width='50%'/>\n",
    "    <figcaption><b>Figure 3: NCO Setting Example </b></figcaption>\n",
    "</figure>"
   ]
  },
  {
   "cell_type": "code",
   "execution_count": 10,
   "metadata": {},
   "outputs": [],
   "source": [
    "# Function Definition\n",
    "\n",
    "def configure_mixer_frequency(block, btype='adc', fc=1024):\n",
    "    zone = block.NyquistZone #find which nyquist zone we are in\n",
    "    even = True if ((zone % 2) == 0) else False # if remainder after % 2 is zero, we are in an even zone\n",
    "    # If the zone is even, we need RF-ADC centre frequency to be positive, in an odd zone we desire a negative frequency\n",
    "    req_zone = int(np.ceil(abs(fc)/((block.BlockStatus['SamplingFreq']*1e3)/2)))\n",
    "    if req_zone != zone:\n",
    "        block.NyquistZone = req_zone\n",
    "    if even:\n",
    "        true_fc = fc if btype=='adc' else -fc\n",
    "    else:\n",
    "        true_fc = -fc if btype=='adc' else fc\n",
    "    block.MixerSettings['Freq'] = true_fc\n",
    "    block.UpdateEvent(1)"
   ]
  },
  {
   "cell_type": "markdown",
   "metadata": {},
   "source": [
    "## Introducing the Coarse Mixer <a class=\"anchor\" id=\"introducing_coarse_mixer\"></a>\n",
    "\n",
    "The coarse mixer will allow us to modulate and demodulate using specific frequencies which are simple to store using basic combinatorial logic, namely $\\frac{f_{s}}{4}$, $-\\frac{f_{s}}{4}$ and $\\frac{f_{s}}{2}$. This makes the coarse mixer only suited for specific use cases, but it can operate at much lower power. \n",
    "\n",
    "We can set the tx_channel and rx_channel mixer settings per RF-DAC/RF-ADC block using *.MixerSettings.update*.\n",
    "\n",
    "To make this demonstration interesting, we will transmit a signal from the RF-DAC and receive it using the RF-ADC. To this extent we will operate the RF-DAC in fine mixer mode and explore the different Coarse mixer options in the RF-ADC."
   ]
  },
  {
   "cell_type": "code",
   "execution_count": 11,
   "metadata": {},
   "outputs": [],
   "source": [
    "# Set DAC to Fine Mixer Type\n",
    "tx_channel.dac_block.MixerSettings.update({\n",
    "    'MixerType': xrfdc.MIXER_TYPE_FINE,\n",
    "    'FineMixerScale': xrfdc.MIXER_SCALE_0P7,\n",
    "})"
   ]
  },
  {
   "cell_type": "markdown",
   "metadata": {},
   "source": [
    "### Coarse Mixer: fs/4 <a class=\"anchor\" id=\"coarse_fs_4\"></a>"
   ]
  },
  {
   "cell_type": "markdown",
   "metadata": {},
   "source": [
    "First, we will explore what happens when the coarse mixer is set to $\\frac{f_{s}}{4}$. We do this by updating the MixerType and CoarseMixFreq variables at the same time using *MixerSettings.update*."
   ]
  },
  {
   "cell_type": "code",
   "execution_count": 12,
   "metadata": {},
   "outputs": [],
   "source": [
    "# Set RF-ADC channel 0 to Coarse Mixer, fs/4\n",
    "rx_channel.adc_block.MixerSettings.update({\n",
    "    'CoarseMixFreq' : xrfdc.COARSE_MIX_SAMPLE_FREQ_BY_FOUR,\n",
    "   'MixerType': xrfdc.MIXER_TYPE_COARSE,\n",
    "})"
   ]
  },
  {
   "cell_type": "markdown",
   "metadata": {},
   "source": [
    "**Time Domain Plot**\n",
    "\n",
    "We can transmit a signal from the RF-DAC to the RF-ADC and plot the results in the time domain. We chose an RF-DAC modulation frequency initially at 800 MHz and transfer the data in packets to the receiver. "
   ]
  },
  {
   "cell_type": "code",
   "execution_count": 13,
   "metadata": {},
   "outputs": [],
   "source": [
    "# transmission carrier - feel free to change this and observe the results!\n",
    "configure_mixer_frequency(block=tx_channel.dac_block, btype='dac', fc=800) "
   ]
  },
  {
   "cell_type": "code",
   "execution_count": 14,
   "metadata": {},
   "outputs": [],
   "source": [
    "# transmit data\n",
    "c_data   = rx_channel.transfer(packetsize=number_samples)"
   ]
  },
  {
   "cell_type": "markdown",
   "metadata": {},
   "source": [
    "We can see the result of this transmission in the time domain. We know:\n",
    "\n",
    "$f_{s} = 4096$\n",
    "\n",
    "\n",
    "$f_{c} = \\frac{f_{s}}{4} = 1024$\n",
    "\n",
    "Therefore, through hetereodyning we expect a mix of the RF-ADC $f_{c}$ at 1024 MHz and the RF-DAC $f_{c}$ at 800 MHz, producing a signal at 224 MHz."
   ]
  },
  {
   "cell_type": "code",
   "execution_count": 15,
   "metadata": {},
   "outputs": [
    {
     "data": {
      "application/vnd.jupyter.widget-view+json": {
       "model_id": "6f50aeb854d7466d89adf2816ea87973",
       "version_major": 2,
       "version_minor": 0
      },
      "text/plain": [
       "VBox(children=(FigureWidget({\n",
       "    'data': [{'name': 'Real',\n",
       "              'type': 'scatter',\n",
       "              'ui…"
      ]
     },
     "metadata": {},
     "output_type": "display_data"
    }
   ],
   "source": [
    "# plot in time domain\n",
    "plots.time_plot(number_samples, sample_frequency, c_data)"
   ]
  },
  {
   "cell_type": "markdown",
   "metadata": {},
   "source": [
    "**Frequency Domain**\n",
    "\n",
    "We can now plot the same transmission in the frequency domain, observing the expected signal at 224 MHz."
   ]
  },
  {
   "cell_type": "code",
   "execution_count": 16,
   "metadata": {},
   "outputs": [
    {
     "data": {
      "application/vnd.jupyter.widget-view+json": {
       "model_id": "9f3491a830d84f00b0906e74a2c39f22",
       "version_major": 2,
       "version_minor": 0
      },
      "text/plain": [
       "FigureWidget({\n",
       "    'data': [{'name': 'Spectrum',\n",
       "              'type': 'scatter',\n",
       "              'uid': 'e0a6e4…"
      ]
     },
     "metadata": {},
     "output_type": "display_data"
    }
   ],
   "source": [
    "# plot in fequency domain\n",
    "plots.freq_plot(c_data, number_samples, sample_frequency)"
   ]
  },
  {
   "cell_type": "markdown",
   "metadata": {},
   "source": [
    "### Coarse Mixer: -fs/4 <a class=\"anchor\" id=\"course_min_fs_4\"></a>\n",
    "\n",
    "Now we explore what happens when the Coarse mixer is set to $\\frac{-f_{s}}{4}$. We will leave the RF-DAC in Fine mixer mode, but change the CoarseMixFreq setting of the RF-ADC channel."
   ]
  },
  {
   "cell_type": "code",
   "execution_count": 17,
   "metadata": {},
   "outputs": [],
   "source": [
    "# Set RF-ADC channel 0 to Coarse Mixer, -fs/4\n",
    "rx_channel.adc_block.MixerSettings.update({\n",
    "    'CoarseMixFreq' : xrfdc.COARSE_MIX_MIN_SAMPLE_FREQ_BY_FOUR,\n",
    "   'MixerType': xrfdc.MIXER_TYPE_COARSE,\n",
    "})"
   ]
  },
  {
   "cell_type": "markdown",
   "metadata": {},
   "source": [
    "**Time Domain Plot**\n",
    "\n",
    "Once more, we can transmit a signal from the RF-DAC to the RF-ADC and plot the results in the time domain. We chose an RF-DAC modulation frequency initially at 800 MHz and transfer the data in packets to the receiver. "
   ]
  },
  {
   "cell_type": "code",
   "execution_count": 18,
   "metadata": {},
   "outputs": [],
   "source": [
    "# transmission carrier\n",
    "configure_mixer_frequency(block=tx_channel.dac_block, btype='dac', fc=800) # transmission carrier"
   ]
  },
  {
   "cell_type": "code",
   "execution_count": 19,
   "metadata": {},
   "outputs": [],
   "source": [
    "# transmit data\n",
    "c_data = rx_channel.transfer(packetsize=number_samples)"
   ]
  },
  {
   "cell_type": "markdown",
   "metadata": {},
   "source": [
    "We can see the result of this transmission in the time domain. Once more we know: \n",
    "\n",
    "$f_{s} = 4096$\n",
    "\n",
    "\n",
    "$f_{c} = \\frac{-f_{s}}{4} = -1024$\n",
    "\n",
    "Therefore, through hetereodyning we expect a mix of the RF-ADC $f_{c}$ at -1024 MHz and the RF-DAC $f_{c}$ at 800 MHz, producing a signal at -224 MHz."
   ]
  },
  {
   "cell_type": "code",
   "execution_count": 20,
   "metadata": {},
   "outputs": [
    {
     "data": {
      "application/vnd.jupyter.widget-view+json": {
       "model_id": "63d6fd849cf34c42ba3b2c1c2d3c0c94",
       "version_major": 2,
       "version_minor": 0
      },
      "text/plain": [
       "VBox(children=(FigureWidget({\n",
       "    'data': [{'name': 'Real',\n",
       "              'type': 'scatter',\n",
       "              'ui…"
      ]
     },
     "metadata": {},
     "output_type": "display_data"
    }
   ],
   "source": [
    "# plot in time domain\n",
    "plots.time_plot(number_samples, sample_frequency, c_data)"
   ]
  },
  {
   "cell_type": "markdown",
   "metadata": {},
   "source": [
    "**Frequency Domain**"
   ]
  },
  {
   "cell_type": "code",
   "execution_count": 21,
   "metadata": {},
   "outputs": [
    {
     "data": {
      "application/vnd.jupyter.widget-view+json": {
       "model_id": "1b243fd928804aa8a8d0d95f985a4a9e",
       "version_major": 2,
       "version_minor": 0
      },
      "text/plain": [
       "FigureWidget({\n",
       "    'data': [{'name': 'Spectrum',\n",
       "              'type': 'scatter',\n",
       "              'uid': '2fa691…"
      ]
     },
     "metadata": {},
     "output_type": "display_data"
    }
   ],
   "source": [
    "# plot in frequency domain\n",
    "plots.freq_plot(c_data, number_samples, sample_frequency)"
   ]
  },
  {
   "cell_type": "markdown",
   "metadata": {},
   "source": [
    "### Coarse Mixer: fs/2 <a class=\"anchor\" id=\"coarse_fs_2\"></a>\n",
    "\n",
    "The final operating mode of the coarse mixer is $\\frac{f_{s}}{2}$. This mode can be set as shown below, once again using *MixerSettings.update*. We expect to see a 'flipping' of the input in both time and frequency domains. This can be useful in correcting the folding which occurs when 'even' Nyquist Zones are aliased to baseband. "
   ]
  },
  {
   "cell_type": "code",
   "execution_count": 22,
   "metadata": {},
   "outputs": [],
   "source": [
    "# set coarse mixer to fs/2\n",
    "rx_channel.adc_block.MixerSettings.update({\n",
    "    'CoarseMixFreq' : xrfdc.COARSE_MIX_SAMPLE_FREQ_BY_TWO,\n",
    "   'MixerType': xrfdc.MIXER_TYPE_COARSE,\n",
    "})"
   ]
  },
  {
   "cell_type": "markdown",
   "metadata": {},
   "source": [
    "## Introducing the Fine Mixer <a class=\"anchor\" id=\"introducing_fine_mixer\"></a>\n",
    "\n",
    "The fine mixer mode allows for precise control of the NCO, setting the mixer frequency between $-\\frac{f_{s}}{2}$ and $\\frac{f_{s}}{2}$. "
   ]
  },
  {
   "cell_type": "code",
   "execution_count": 27,
   "metadata": {},
   "outputs": [],
   "source": [
    "# set RF-DAC channel 0 to fine mixer\n",
    "tx_channel.dac_block.MixerSettings.update({\n",
    "    'MixerType': xrfdc.MIXER_TYPE_FINE,\n",
    "    'FineMixerScale': xrfdc.MIXER_SCALE_0P7,\n",
    "})"
   ]
  },
  {
   "cell_type": "code",
   "execution_count": 28,
   "metadata": {},
   "outputs": [],
   "source": [
    "# set RF-ADC channel 0 to fine mixer\n",
    "rx_channel.adc_block.MixerSettings.update({\n",
    "    'MixerType': xrfdc.MIXER_TYPE_FINE,\n",
    "    'FineMixerScale': xrfdc.MIXER_SCALE_1P0,\n",
    "})"
   ]
  },
  {
   "cell_type": "markdown",
   "metadata": {},
   "source": [
    "**Time Domain**\n",
    "\n",
    "We are now able to freely configure a mixer frequency for the RF-ADC and RF-DAC channels, using the *configure_mixer_frequency* function."
   ]
  },
  {
   "cell_type": "code",
   "execution_count": 29,
   "metadata": {},
   "outputs": [],
   "source": [
    "# configure transmit and receive centre frequencies\n",
    "configure_mixer_frequency(block=tx_channel.dac_block, btype='dac', fc=800) # transmission carrier\n",
    "configure_mixer_frequency(block=rx_channel.adc_block, btype='adc', fc=-1200) # receiver carrier"
   ]
  },
  {
   "cell_type": "code",
   "execution_count": 30,
   "metadata": {},
   "outputs": [],
   "source": [
    "# transmit data\n",
    "c_data   = rx_channel.transfer(packetsize=number_samples)"
   ]
  },
  {
   "cell_type": "markdown",
   "metadata": {},
   "source": [
    "Once again we can observe the effects of hetereodyning, by mixing signals at 800 MHz and -1200 MHz we produce a received signal at 400 MHz."
   ]
  },
  {
   "cell_type": "code",
   "execution_count": 31,
   "metadata": {},
   "outputs": [
    {
     "data": {
      "application/vnd.jupyter.widget-view+json": {
       "model_id": "48171b5f66e4454da0f39d0d182480e8",
       "version_major": 2,
       "version_minor": 0
      },
      "text/plain": [
       "VBox(children=(FigureWidget({\n",
       "    'data': [{'name': 'Real',\n",
       "              'type': 'scatter',\n",
       "              'ui…"
      ]
     },
     "metadata": {},
     "output_type": "display_data"
    }
   ],
   "source": [
    "# plot in time domain\n",
    "plots.time_plot(number_samples, sample_frequency, c_data)"
   ]
  },
  {
   "cell_type": "markdown",
   "metadata": {},
   "source": [
    "**Frequency Domain**"
   ]
  },
  {
   "cell_type": "code",
   "execution_count": 32,
   "metadata": {},
   "outputs": [
    {
     "data": {
      "application/vnd.jupyter.widget-view+json": {
       "model_id": "0bdf879e0fbe40ce995b2c0fe3be9225",
       "version_major": 2,
       "version_minor": 0
      },
      "text/plain": [
       "FigureWidget({\n",
       "    'data': [{'name': 'Spectrum',\n",
       "              'type': 'scatter',\n",
       "              'uid': 'd983b6…"
      ]
     },
     "metadata": {},
     "output_type": "display_data"
    }
   ],
   "source": [
    "# plot in frequency domain\n",
    "plots.freq_plot(c_data, number_samples, sample_frequency)"
   ]
  },
  {
   "cell_type": "markdown",
   "metadata": {},
   "source": [
    "## Mixer Bypass <a class=\"anchor\" id=\"mixer_bypass\"></a>\n",
    "\n",
    "Mixer bypass mode allows us to ignore the modulation process and directly transmit our baseband signal. As you can imagine this would be considerably more inefficient than utalising a Radio Frequency carrier as we have been up to now.\n",
    "\n",
    "However there are cases where this may have uses, such as when we are interested in an intermediate step in the transmission chain, moving baseband to an Intermediate Frequency (IF) transceiver and then to RF.\n",
    "\n",
    "Bypass mode can be set as shown below. As we explored previously the circuitry to set bypass mode is within the coarse mixer, so we can choose the BYPASS setting as we would any of the frequency options for the coarse mixer."
   ]
  },
  {
   "cell_type": "code",
   "execution_count": 33,
   "metadata": {},
   "outputs": [],
   "source": [
    "# configure RF-ADC channel 0 for mixer bypass\n",
    "rx_channel.adc_block.MixerSettings.update({\n",
    "    'CoarseMixFreq' : xrfdc.COARSE_MIX_BYPASS,\n",
    "   'MixerType': xrfdc.MIXER_TYPE_COARSE,\n",
    "})"
   ]
  },
  {
   "cell_type": "markdown",
   "metadata": {},
   "source": [
    "## Conclusion <a class=\"anchor\" id=\"conclusion\"></a>\n",
    "\n",
    "This notebook has presented a simple introduction to the Mixer Settings available using the RF Data Converters of the RFSoC2x2. We have explored the Coarse and Fine mixer modes in a design running on the RFSoC2x2 board, as well as exploring the theory of Bypass mode.\n",
    "\n",
    "RF data visualization was performed using `plotly`, `ipywidgets`, and `numpy` in Jupyter.\n",
    "\n",
    "You can also return to the [Coarse Mixer](#introducing_coarse_mixer) or [Fine Mixer](#introducing_fine_mixer) sections and try different mixer frequencies."
   ]
  },
  {
   "cell_type": "markdown",
   "metadata": {},
   "source": [
    "[⬅️ Previous Notebook](rfsoc_fpga_interface.ipynb) | | [Next Notebook ➡️](rfsoc_multirate.ipynb)\n",
    "\n",
    "----\n",
    "----"
   ]
  }
 ],
 "metadata": {
  "kernelspec": {
   "display_name": "Python 3",
   "language": "python",
   "name": "python3"
  },
  "language_info": {
   "codemirror_mode": {
    "name": "ipython",
    "version": 3
   },
   "file_extension": ".py",
   "mimetype": "text/x-python",
   "name": "python",
   "nbconvert_exporter": "python",
   "pygments_lexer": "ipython3",
   "version": "3.6.5"
  }
 },
 "nbformat": 4,
 "nbformat_minor": 4
}
