{
 "cells": [
  {
   "cell_type": "markdown",
   "metadata": {},
   "source": [
    "<img src=\"images/strathclyde_banner.png\" width=\"50%\" align=\"left\" style=\"left\">"
   ]
  },
  {
   "cell_type": "markdown",
   "metadata": {},
   "source": [
    "# Exploring the RF Data Converters\n",
    "\n",
    "----"
   ]
  },
  {
   "cell_type": "markdown",
   "metadata": {},
   "source": [
    "## The RF ADC Block\n",
    "\n",
    "### Threshold Detection\n",
    "\n",
    "### Quadrature Modulation Correction\n",
    "\n",
    "### The Complex Mixer\n",
    "\n",
    "### The Programmable Decimator\n",
    "\n",
    "### The ADC-FPGA Interface"
   ]
  },
  {
   "cell_type": "markdown",
   "metadata": {},
   "source": [
    "## The RF DAC Block\n",
    "\n",
    "### The DAC-FPGA Interface\n",
    "\n",
    "### The Programmable Interpolator\n",
    "\n",
    "### The Complex Mixer\n",
    "\n",
    "### Quadrature Modulation Correction\n",
    "\n",
    "### The Anti-Sinc Filter"
   ]
  },
  {
   "cell_type": "markdown",
   "metadata": {},
   "source": [
    "## Conclusion"
   ]
  }
 ],
 "metadata": {
  "kernelspec": {
   "display_name": "Python 3",
   "language": "python",
   "name": "python3"
  },
  "language_info": {
   "codemirror_mode": {
    "name": "ipython",
    "version": 3
   },
   "file_extension": ".py",
   "mimetype": "text/x-python",
   "name": "python",
   "nbconvert_exporter": "python",
   "pygments_lexer": "ipython3",
   "version": "3.6.5"
  }
 },
 "nbformat": 4,
 "nbformat_minor": 4
}
